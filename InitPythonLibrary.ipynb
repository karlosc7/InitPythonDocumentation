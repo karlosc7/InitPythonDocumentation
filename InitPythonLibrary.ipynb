{
  "nbformat": 4,
  "nbformat_minor": 0,
  "metadata": {
    "colab": {
      "provenance": [],
      "toc_visible": true,
      "authorship_tag": "ABX9TyOeD3nYhrhxMkmKqnbKWbYw",
      "include_colab_link": true
    },
    "kernelspec": {
      "name": "python3",
      "display_name": "Python 3"
    },
    "language_info": {
      "name": "python"
    }
  },
  "cells": [
    {
      "cell_type": "markdown",
      "metadata": {
        "id": "view-in-github",
        "colab_type": "text"
      },
      "source": [
        "<a href=\"https://colab.research.google.com/github/karlosc7/InitPythonDocumentation/blob/Curso_Seguimiento/InitPythonLibrary.ipynb\" target=\"_parent\"><img src=\"https://colab.research.google.com/assets/colab-badge.svg\" alt=\"Open In Colab\"/></a>"
      ]
    },
    {
      "cell_type": "markdown",
      "source": [
        "# Hola Mundo\n"
      ],
      "metadata": {
        "id": "DTggi1BJK3x4"
      }
    },
    {
      "cell_type": "code",
      "execution_count": 1,
      "metadata": {
        "colab": {
          "base_uri": "https://localhost:8080/"
        },
        "id": "kppcVkNQ0L7u",
        "outputId": "0788080d-f342-4298-a9cc-9b1d69d2961e"
      },
      "outputs": [
        {
          "output_type": "stream",
          "name": "stdout",
          "text": [
            "Hello World\n",
            "Hola Mundo\n",
            "Mi nombre es Carlos y soy administrador de sistemas\n"
          ]
        }
      ],
      "source": [
        "print('Hello World')\n",
        "print (\"Hola Mundo\")\n",
        "print ('Mi nombre es Carlos' + ' y soy administrador de sistemas')"
      ]
    },
    {
      "cell_type": "markdown",
      "source": [
        "# Mates\n"
      ],
      "metadata": {
        "id": "CucOQhTsKoXu"
      }
    },
    {
      "cell_type": "code",
      "source": [
        "print(10 + 5)\n",
        "\n",
        "float1 = 13.65\n",
        "float2 = 3.40\n",
        "print(float1 + float2)\n",
        "\n",
        "num = 20\n",
        "flt = 10.5\n",
        "print(num + flt)\n",
        "print(10 - 5)\n",
        "\n",
        "float1 = -18.678\n",
        "float2 = 3.55\n",
        "print(float1 - float2)\n",
        "\n",
        "num = 20\n",
        "flt = 10.5\n",
        "print(num - flt)\n",
        "print(40 * 10)\n",
        "\n",
        "float1 = 5.5\n",
        "float2 = 4.5\n",
        "print(float1 * float2)\n",
        "\n",
        "print(10.2 * 3)\n",
        "print(40 / 10)\n",
        "\n",
        "float1 = 5.5\n",
        "float2 = 4.5\n",
        "print(float1 / float2)\n",
        "print(12.4 / 2)\n",
        "print(43 // 10)\n",
        "\n",
        "float1 = 5.5\n",
        "float2 = 4.5\n",
        "print(5.5 // 4.5)\n",
        "print(12.4 // 2)\n",
        "print(10 % 2)\n",
        "\n",
        "twenty_eight = 28\n",
        "print(twenty_eight % 10)\n",
        "\n",
        "print(-28 % 10)  # The remainder is positive if the right-hand operand is positive\n",
        "print(28 % -10)  # The remainder is negative if the right-hand operand is negative\n",
        "print(34.4 % 2.5)  # The remainder can be a float\n",
        "# Different precedence\n",
        "print(10 - 3 * 2)  # Multiplication computed first, followed by subtraction\n",
        "\n",
        "# Same precedence\n",
        "print(3 * 20 / 5)  # Multiplication computed first, followed by division\n",
        "print(3 / 20 * 5)  # Division computed first, followed by multiplication\n",
        "print((10 - 3) * 2)  # Subtraction occurs first\n",
        "print((18 + 2) / (10 % 8))"
      ],
      "metadata": {
        "colab": {
          "base_uri": "https://localhost:8080/"
        },
        "id": "wuHY_QQ0Kfs1",
        "outputId": "ab9da528-3c42-494c-ca58-a127c602c8e6"
      },
      "execution_count": null,
      "outputs": [
        {
          "output_type": "stream",
          "name": "stdout",
          "text": [
            "15\n",
            "17.05\n",
            "30.5\n",
            "5\n",
            "-22.228\n",
            "9.5\n",
            "400\n",
            "24.75\n",
            "30.599999999999998\n",
            "4.0\n",
            "1.2222222222222223\n",
            "6.2\n",
            "4\n",
            "1.0\n",
            "6.0\n",
            "0\n",
            "8\n",
            "2\n",
            "-2\n",
            "1.8999999999999986\n",
            "4\n",
            "12.0\n",
            "0.75\n"
          ]
        }
      ]
    },
    {
      "cell_type": "markdown",
      "source": [
        "# Lógica"
      ],
      "metadata": {
        "id": "SBp8kAnJK7es"
      }
    },
    {
      "cell_type": "code",
      "source": [
        "num1 = 5\n",
        "num2 = 10\n",
        "num3 = 10\n",
        "list1 = [6,7,8]\n",
        "list2 = [6,7,8]\n",
        "\n",
        "print(num2 > num1)  # 10 is greater than 5\n",
        "print(num1 > num2)  # 5 is not greater than 10\n",
        "\n",
        "print(num2 == num3)  # Both have the same value\n",
        "print(num3 != num1)  # Both have different values\n",
        "\n",
        "print(3 + 10 == 5 + 5)  # Both are not equal\n",
        "print(3 <= 2)  # 3 is not less than or equal to 2\n",
        "\n",
        "print(num2 is not num3)  # Both have the same object\n",
        "print(list1 is list2)  # Both have the different objects\n",
        "\n",
        "year = 2019\n",
        "print(year)\n",
        "\n",
        "year = 2020\n",
        "print(year)\n",
        "\n",
        "year = year + 1  # Using the existing value to create a new one\n",
        "print(year)\n",
        "first = 20\n",
        "second = first\n",
        "first = 35  # Updating 'first'\n",
        "\n",
        "print(first, second)  # 'second' remains unchanged\n",
        "num = 10\n",
        "print(num)\n",
        "\n",
        "num += 5\n",
        "print(num)\n",
        "\n",
        "num -= 5\n",
        "print(num)\n",
        "\n",
        "num *= 2\n",
        "print(num)\n",
        "\n",
        "num /= 2\n",
        "print(num)\n",
        "\n",
        "num **= 2\n",
        "print(num)\n",
        "\n",
        "# Try all the others here!\n",
        "# OR Expression\n",
        "my_bool = True or False\n",
        "print(my_bool)\n",
        "\n",
        "# AND Expression\n",
        "my_bool = True and False\n",
        "print(my_bool)\n",
        "\n",
        "# NOT expression\n",
        "my_bool = False\n",
        "print(not my_bool)\n",
        "\n",
        "print(10 * True)\n",
        "print(10 * False)\n",
        "num1 = 10  # Binary value = 01010\n",
        "num2 = 20  # Binary Value = 10100\n",
        "\n",
        "print(num1 & num2)   # 0   -> Binary value = 00000\n",
        "print(num1 | num2)   # 30  -> Binary value = 11110\n",
        "print(num1 ^ num2)   # 30  -> Binary value = 11110\n",
        "print(~num1)         # -11 -> Binary value = -(1011)\n",
        "print(num1 << 3)     # 80  -> Binary value = 0101 0000\n",
        "print(num2 >> 3)     # 2   -> Binary value = 0010"
      ],
      "metadata": {
        "colab": {
          "base_uri": "https://localhost:8080/"
        },
        "id": "XW0yraAyLoXG",
        "outputId": "de49a56b-61de-42b9-a80f-cf438f8f2eb3"
      },
      "execution_count": null,
      "outputs": [
        {
          "output_type": "stream",
          "name": "stdout",
          "text": [
            "True\n",
            "False\n",
            "True\n",
            "True\n",
            "False\n",
            "False\n",
            "False\n",
            "False\n",
            "2019\n",
            "2020\n",
            "2021\n",
            "35 20\n",
            "10\n",
            "15\n",
            "10\n",
            "20\n",
            "10.0\n",
            "100.0\n",
            "True\n",
            "False\n",
            "True\n",
            "10\n",
            "0\n",
            "0\n",
            "30\n",
            "30\n",
            "-11\n",
            "80\n",
            "2\n"
          ]
        }
      ]
    },
    {
      "cell_type": "markdown",
      "source": [
        "# Strings"
      ],
      "metadata": {
        "id": "BAvpLN64L8DG"
      }
    },
    {
      "cell_type": "code",
      "source": [
        "print('a' < 'b')  # 'a' has a smaller Unicode value\n",
        "\n",
        "house = \"Gryffindor\"\n",
        "house_copy = \"Gryffindor\"\n",
        "\n",
        "print(house == house_copy)\n",
        "\n",
        "new_house = \"Slytherin\"\n",
        "\n",
        "print(house == new_house)\n",
        "\n",
        "print(new_house <= house)\n",
        "\n",
        "print(new_house >= house)\n",
        "first_half = \"Bat\"\n",
        "second_half = \"man\"\n",
        "\n",
        "full_name = first_half + second_half\n",
        "print(full_name)\n",
        "random_string = \"This is a random string\"\n",
        "\n",
        "print('of' in random_string)  # Check whether 'of' exists in randomString\n",
        "print('random' in random_string)  # 'random' exists!"
      ],
      "metadata": {
        "colab": {
          "base_uri": "https://localhost:8080/"
        },
        "id": "LDqQkGPML-my",
        "outputId": "ab6f5b30-e47c-45c8-ad62-2ae5e4a9a22d"
      },
      "execution_count": null,
      "outputs": [
        {
          "output_type": "stream",
          "name": "stdout",
          "text": [
            "True\n",
            "True\n",
            "False\n",
            "False\n",
            "True\n",
            "Batman\n",
            "False\n",
            "True\n"
          ]
        }
      ]
    },
    {
      "cell_type": "markdown",
      "source": [
        "# List"
      ],
      "metadata": {
        "id": "lN51Dwg2MNc3"
      }
    },
    {
      "cell_type": "code",
      "source": [
        "my_list = [1, 2.5, \"A string\", True]\n",
        "print(my_list)\n",
        "my_list = [1, 2.5, \"A string\", True]\n",
        "print(my_list[2])\n",
        "print(len(my_list))\n",
        "\n",
        "G = 6.67 * (10 ** -11)\n",
        "M = 6.0 * (10 ** 24)  # Mass of Earth\n",
        "m = 7.34 * (10 ** 22)  # Mass of the moon\n",
        "r = 3.84 * (10 ** 8)\n",
        "grav_force = (G * M * m) / (r ** 2)\n",
        "print(grav_force)\n",
        "# Write your code here"
      ],
      "metadata": {
        "colab": {
          "base_uri": "https://localhost:8080/"
        },
        "id": "8NW0yu9wMO61",
        "outputId": "b71a4d58-fc65-451a-8a10-bf7204fd094a"
      },
      "execution_count": null,
      "outputs": [
        {
          "output_type": "stream",
          "name": "stdout",
          "text": [
            "[1, 2.5, 'A string', True]\n",
            "A string\n",
            "4\n",
            "1.9920979817708333e+20\n"
          ]
        }
      ]
    },
    {
      "cell_type": "markdown",
      "source": [
        "# Condicionales"
      ],
      "metadata": {
        "id": "6nhedVbUNFiP"
      }
    },
    {
      "cell_type": "code",
      "source": [
        "num = 5\n",
        "\n",
        "if (num == 5):  # The condition is true\n",
        "    print(\"The number is equal to 5\")  # The code is executed\n",
        "\n",
        "if num > 5:  # The condtion is false\n",
        "    print(\"The number is greater than 5\")  # The code is not executed\n",
        "\n",
        "    num = 12\n",
        "\n",
        "if num % 2 == 0 and num % 3 == 0 and num % 4 == 0:\n",
        "    # Only works when num is a multiple of 2, 3, and 4\n",
        "    print(\"The number is a multiple of 2, 3, and 4\")\n",
        "\n",
        "if (num % 5 == 0 or num % 6 == 0):\n",
        "    # Only works when num is either a multiple of 5 or 6\n",
        "    print(\"The number is a multiple of 5 and/or 6\")\n",
        "\n",
        "    num = 63\n",
        "\n",
        "if num >= 0 and num <= 100:\n",
        "    if num >= 50 and num <= 75:\n",
        "        if num >= 60 and num <= 70:\n",
        "            print(\"The number is in the 60-70 range\")\n",
        "\n",
        "            num = 10\n",
        "if num > 5:\n",
        "    num = 20  # Assigning a new value to num\n",
        "    new_num = num * 5  # Creating a new value called newNum\n",
        "\n",
        "# The if condition ends, but the changes made inside it remain\n",
        "print(num)\n",
        "print(new_num)\n",
        "\n",
        "num = 60\n",
        "\n",
        "if num <= 50:\n",
        "    print(\"The number is less than or equal to 50\")\n",
        "else:\n",
        "    print(\"The number is greater than 50\")\n",
        "\n",
        "    num = 60\n",
        "\n",
        "if num <= 50:\n",
        "    print(\"The number is less than or equal to 50\")\n",
        "\n",
        "if num > 50:\n",
        "    print(\"The number is greater than 50\")\n",
        "\n",
        "    num = 60\n",
        "\n",
        "output = \"The number is less than or equal to 50\" \\\n",
        "    if num <= 50 else \"The number is greater than 50\"\n",
        "\n",
        "print(output)\n",
        "\n",
        "light = \"Red\"\n",
        "\n",
        "if light == \"Green\":\n",
        "    print(\"Go\")\n",
        "\n",
        "elif light == \"Yellow\":\n",
        "    print(\"Caution\")\n",
        "\n",
        "elif light == \"Red\":\n",
        "    print(\"Stop\")\n",
        "\n",
        "else:\n",
        "    print(\"Incorrect light signal\")\n",
        "\n",
        "\n",
        "    num = 5\n",
        "\n",
        "if num == 0:\n",
        "    print(\"Zero\")\n",
        "elif num == 1:\n",
        "    print(\"One\")\n",
        "elif num == 2:\n",
        "    print(\"Two\")\n",
        "elif num == 3:\n",
        "    print(\"Three\")\n",
        "elif num == 4:\n",
        "    print(\"Four\")\n",
        "elif num == 5:\n",
        "    print(\"Five\")\n",
        "elif num == 6:\n",
        "    print(\"Six\")\n",
        "elif num == 7:\n",
        "    print(\"Seven\")\n",
        "elif num == 8:\n",
        "    print(\"Eight\")\n",
        "elif num == 9:\n",
        "    print(\"Nine\")\n",
        "\n",
        "    num = 10\n",
        "\n",
        "if num > 5:\n",
        "    print(\"The number is greater than 5\")\n",
        "\n",
        "if num % 2 == 0:\n",
        "    print(\"The number is even\")\n",
        "\n",
        "if not num % 2 == 0:\n",
        "    print(\"The number is odd\")\n",
        "\n",
        "    num = 10\n",
        "\n",
        "if num > 5:\n",
        "    print(\"The number is greater than 5\")\n",
        "\n",
        "elif num % 2 == 0:\n",
        "    print(\"The number is even\")\n",
        "\n",
        "else:\n",
        "    print(\"The number is odd and less than or equal to 5\")\n",
        "\n",
        "price = 250\n",
        "if price >= 300:\n",
        "    price *= 0.7  # (1 - 0.3)\n",
        "elif price >= 200:\n",
        "    price *= 0.8  # (1 - 0.2)\n",
        "elif price >= 100:\n",
        "    price *= 0.9  # (1 - 0.1)\n",
        "elif price < 100 and price >= 0:\n",
        "    price *= 0.95  # (1 - 0.05)\n",
        "\n",
        "print(price)"
      ],
      "metadata": {
        "colab": {
          "base_uri": "https://localhost:8080/"
        },
        "id": "YHlPAIKqNH-s",
        "outputId": "bda531eb-885d-4cef-8f65-00854b409de8"
      },
      "execution_count": null,
      "outputs": [
        {
          "output_type": "stream",
          "name": "stdout",
          "text": [
            "The number is equal to 5\n",
            "The number is a multiple of 5 and/or 6\n",
            "The number is in the 60-70 range\n",
            "20\n",
            "100\n",
            "The number is greater than 50\n",
            "The number is greater than 50\n",
            "The number is greater than 50\n",
            "Stop\n",
            "The number is greater than 5\n",
            "The number is even\n",
            "The number is greater than 5\n",
            "200.0\n"
          ]
        }
      ]
    },
    {
      "cell_type": "markdown",
      "source": [
        "# Funciones"
      ],
      "metadata": {
        "id": "uUUIwGJAV2R8"
      }
    },
    {
      "cell_type": "code",
      "source": [
        "minimum = min(10, 40)\n",
        "print(minimum)\n",
        "\n",
        "minimum = min(10, 100, 1, 1000)  # It even works with multiple arguments\n",
        "print(minimum)\n",
        "\n",
        "minimum = min(\"Superman\", \"Batman\")  # And with different data types\n",
        "print(minimum)\n",
        "\n",
        "def my_print_function():  # No parameters\n",
        "    print(\"This\")\n",
        "    print(\"is\")\n",
        "    print(\"A\")\n",
        "    print(\"function\")\n",
        "# Function ended\n",
        "\n",
        "\n",
        "# Calling the function in the program multiple times\n",
        "my_print_function()\n",
        "my_print_function()\n",
        "\n",
        "def minimum(first, second):\n",
        "    if (first < second):\n",
        "        print(first)\n",
        "    else:\n",
        "        print(second)\n",
        "\n",
        "\n",
        "num1 = 10\n",
        "num2 = 20\n",
        "\n",
        "minimum(num1, num2)\n",
        "\n",
        "def minimum(first, second):\n",
        "    if (first < second):\n",
        "        return first\n",
        "    return second\n",
        "\n",
        "\n",
        "num1 = 10\n",
        "num2 = 20\n",
        "\n",
        "result = minimum(num1, num2)  # Storing the value returned by the function\n",
        "print(result)\n",
        "\n",
        "name = \"Stark\"\n",
        "def func():\n",
        "  name = \"Stark\"\n",
        "func()\n",
        "print(name)  # Accessing 'name' outside the function\n",
        "\n",
        "num = 20\n",
        "\n",
        "\n",
        "def multiply_by_10(n):\n",
        "    n *= 10\n",
        "    num = n  # Changing the value inside the function\n",
        "    print(\"Value of num inside function:\", num)\n",
        "    return n\n",
        "\n",
        "\n",
        "multiply_by_10(num)\n",
        "print(\"Value of num outside function:\", num)  # The original value remains unchanged\n",
        "\n",
        "\n",
        "random_string = \"This is a string\"\n",
        "print(random_string.find(\"is\"))  # First instance of 'is' occurs at index 2\n",
        "print(random_string.find(\"is\", 9, 13))  # No instance of 'is' in this range\n",
        "\n",
        "a_string = \"Welcome to Educative!\"\n",
        "new_string = a_string.replace(\"Welcome to\", \"Greetings from\")\n",
        "print(a_string)\n",
        "print(new_string)\n",
        "\n",
        "print(\"UpperCase\".upper())\n",
        "print(\"LowerCase\".lower())\n",
        "\n",
        "\n",
        "llist = ['a', 'b', 'c']\n",
        "print('>>'.join(llist)) # joining strings with >>\n",
        "print('<<'.join(llist)) # joining strings with <<\n",
        "print(', '.join(llist)) # joining strings with comma and space\n",
        "\n",
        "\n",
        "string1 = \"Learn Python {version} at {cname}\".format(version = 3, cname = \"Educative\")\n",
        "string2 = \"Learn Python {0} at {1}\".format(3, \"Educative\")\n",
        "string3 = \"Learn Python {} at {}\".format(3, \"Educative\")\n",
        "\n",
        "print(string1)\n",
        "print(string2)\n",
        "print(string3)\n",
        "\n",
        "\n",
        "print(int(\"12\") * 10)  # String to integer\n",
        "print(int(20.5))  # Float to integer\n",
        "print(int(False))  # Bool to integer\n",
        "\n",
        "# print (int(\"Hello\")) # This wouldn't work!\n",
        "\n",
        "\n",
        "print(str(12) + '.345')\n",
        "print(str(False))\n",
        "print(str(12.345) + ' is a string')\n",
        "\n",
        "\n",
        "print(bool(10))\n",
        "print(bool(0.0))\n",
        "print(bool(\"Hello\"))\n",
        "print(bool(\"\"))"
      ],
      "metadata": {
        "colab": {
          "base_uri": "https://localhost:8080/"
        },
        "id": "GXkSbEUqV4jp",
        "outputId": "4c7d3031-6d98-4726-f09d-154fbf324cd2"
      },
      "execution_count": 12,
      "outputs": [
        {
          "output_type": "stream",
          "name": "stdout",
          "text": [
            "10\n",
            "1\n",
            "Batman\n",
            "This\n",
            "is\n",
            "A\n",
            "function\n",
            "This\n",
            "is\n",
            "A\n",
            "function\n",
            "10\n",
            "10\n",
            "Stark\n",
            "Value of num inside function: 200\n",
            "Value of num outside function: 20\n",
            "2\n",
            "-1\n",
            "Welcome to Educative!\n",
            "Greetings from Educative!\n",
            "UPPERCASE\n",
            "lowercase\n",
            "a>>b>>c\n",
            "a<<b<<c\n",
            "a, b, c\n",
            "Learn Python 3 at Educative\n",
            "Learn Python 3 at Educative\n",
            "Learn Python 3 at Educative\n",
            "120\n",
            "20\n",
            "0\n",
            "12.345\n",
            "False\n",
            "12.345 is a string\n",
            "True\n",
            "False\n",
            "True\n",
            "False\n"
          ]
        }
      ]
    },
    {
      "cell_type": "markdown",
      "source": [
        "# Inputs"
      ],
      "metadata": {
        "id": "rywihBEhXSV9"
      }
    },
    {
      "cell_type": "code",
      "source": [
        "name = input(\"What is your name? \")\n",
        "print(\"\\nHello,\", name)"
      ],
      "metadata": {
        "colab": {
          "base_uri": "https://localhost:8080/"
        },
        "id": "mEK85thjXU_S",
        "outputId": "7e1d9383-307b-4d1d-9b51-e5f71883cfaf"
      },
      "execution_count": 13,
      "outputs": [
        {
          "output_type": "stream",
          "name": "stdout",
          "text": [
            "What is your name? Carlos\n",
            "\n",
            "Hello, Carlos\n"
          ]
        }
      ]
    },
    {
      "cell_type": "markdown",
      "source": [
        "# Funciones 2"
      ],
      "metadata": {
        "id": "O5lJPvGGXeLy"
      }
    },
    {
      "cell_type": "code",
      "source": [],
      "metadata": {
        "id": "u5q84syxXiK_"
      },
      "execution_count": null,
      "outputs": []
    }
  ]
}