{
  "nbformat": 4,
  "nbformat_minor": 0,
  "metadata": {
    "colab": {
      "provenance": [],
      "include_colab_link": true
    },
    "kernelspec": {
      "name": "python3",
      "display_name": "Python 3"
    },
    "language_info": {
      "name": "python"
    }
  },
  "cells": [
    {
      "cell_type": "markdown",
      "metadata": {
        "id": "view-in-github",
        "colab_type": "text"
      },
      "source": [
        "<a href=\"https://colab.research.google.com/github/karlosc7/InitPythonDocumentation/blob/main/Copia_de_Calculo_de_similitud_Sistemas_inteligentes.ipynb\" target=\"_parent\"><img src=\"https://colab.research.google.com/assets/colab-badge.svg\" alt=\"Open In Colab\"/></a>"
      ]
    },
    {
      "cell_type": "markdown",
      "source": [
        "Usamos tres librerías diferentes para calcular la similitud de los vectores dados.\n",
        "![imagen.png](data:image/png;base64,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)"
      ],
      "metadata": {
        "id": "FvhodPZpX_vN"
      }
    },
    {
      "cell_type": "code",
      "execution_count": null,
      "metadata": {
        "colab": {
          "base_uri": "https://localhost:8080/"
        },
        "id": "AmzHiRAOU58W",
        "outputId": "1d1727c1-12da-4d1a-e203-bafaf50ffed0"
      },
      "outputs": [
        {
          "output_type": "stream",
          "name": "stdout",
          "text": [
            "0.6708203932499369\n"
          ]
        }
      ],
      "source": [
        "from numpy import dot\n",
        "from numpy.linalg import norm\n",
        "\n",
        "A = [1, 1, 0, 1, 0, 1, 1]\n",
        "B = [1, 0, 1, 0, 0, 1, 1]\n",
        "\n",
        "result = dot(A, B)/(norm(A)*norm(B))\n",
        "\n",
        "print(result)"
      ]
    },
    {
      "cell_type": "code",
      "source": [
        "from scipy import spatial\n",
        "\n",
        "result = 1 - spatial.distance.cosine(A, B)\n",
        "\n",
        "print(result)"
      ],
      "metadata": {
        "colab": {
          "base_uri": "https://localhost:8080/"
        },
        "id": "Aq9u5hERV97A",
        "outputId": "aa8fca2a-3f6a-40b0-ab64-024a52a763c6"
      },
      "execution_count": null,
      "outputs": [
        {
          "output_type": "stream",
          "name": "stdout",
          "text": [
            "0.6708203932499368\n"
          ]
        }
      ]
    },
    {
      "cell_type": "code",
      "source": [
        "from sklearn.metrics.pairwise import cosine_similarity,cosine_distances\n",
        "import numpy as np\n",
        "\n",
        "A = np.array(A)\n",
        "B = np.array(B)\n",
        "\n",
        "result=cosine_similarity(A.reshape(1,-1),B.reshape(1,-1))\n",
        "\n",
        "print(result)\n"
      ],
      "metadata": {
        "colab": {
          "base_uri": "https://localhost:8080/"
        },
        "id": "ux75ySsFWpBg",
        "outputId": "ceb02cae-26fc-428c-cd14-a18074ed3fe9"
      },
      "execution_count": null,
      "outputs": [
        {
          "output_type": "stream",
          "name": "stdout",
          "text": [
            "[[0.67082039]]\n"
          ]
        }
      ]
    },
    {
      "cell_type": "code",
      "source": [
        "import torch\n",
        "import torch.nn.functional as F\n",
        "A = [1, 1, 0, 1, 0, 1, 1]\n",
        "a = torch.FloatTensor(A)\n",
        "\n",
        "B = [1, 0, 1, 0, 0, 1, 1]\n",
        "b = torch.FloatTensor(B)\n",
        "result = F.cosine_similarity(a, b, dim=0)\n",
        "\n",
        "print(result)"
      ],
      "metadata": {
        "colab": {
          "base_uri": "https://localhost:8080/"
        },
        "id": "ahzFUXNP_J9l",
        "outputId": "e2d3f814-ba64-4278-bb2b-014060509d60"
      },
      "execution_count": null,
      "outputs": [
        {
          "output_type": "stream",
          "name": "stdout",
          "text": [
            "tensor(0.6708)\n"
          ]
        }
      ]
    }
  ]
}